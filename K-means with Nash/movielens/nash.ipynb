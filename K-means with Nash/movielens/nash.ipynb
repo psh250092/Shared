{
 "cells": [
  {
   "cell_type": "code",
   "execution_count": 3,
   "metadata": {},
   "outputs": [
    {
     "ename": "TypeError",
     "evalue": "payoff argument should be a numeric type instance",
     "output_type": "error",
     "traceback": [
      "\u001b[1;31m---------------------------------------------------------------------------\u001b[0m",
      "\u001b[1;31mTypeError\u001b[0m                                 Traceback (most recent call last)",
      "Cell \u001b[1;32mIn [3], line 19\u001b[0m\n\u001b[0;32m     14\u001b[0m     \u001b[39mreturn\u001b[39;00m pygambit\u001b[39m.\u001b[39mnash\u001b[39m.\u001b[39menumpure_solve(ret)\n\u001b[0;32m     17\u001b[0m \u001b[39m# 죄수의 딜레마 예시!\u001b[39;00m\n\u001b[0;32m     18\u001b[0m \u001b[39m# 리스트 2개를 묶는건 쉬워도 풀기는 어렵더라고... 그냥 하나로 받았어.\u001b[39;00m\n\u001b[1;32m---> 19\u001b[0m nashSolution([[[\u001b[39m5\u001b[39;49m, \u001b[39m0.5\u001b[39;49m],[\u001b[39m10\u001b[39;49m, \u001b[39m1\u001b[39;49m]],[[\u001b[39m5\u001b[39;49m, \u001b[39m10\u001b[39;49m],[\u001b[39m0\u001b[39;49m, \u001b[39m1\u001b[39;49m]]], isMixed \u001b[39m=\u001b[39;49m \u001b[39mFalse\u001b[39;49;00m)\n",
      "Cell \u001b[1;32mIn [3], line 11\u001b[0m, in \u001b[0;36mnashSolution\u001b[1;34m(Mtrx, isMixed)\u001b[0m\n\u001b[0;32m      7\u001b[0m \u001b[39mdef\u001b[39;00m \u001b[39mnashSolution\u001b[39m(Mtrx, isMixed) :\n\u001b[0;32m      8\u001b[0m     \u001b[39m# 안타깝게도 2인 플레이어 전용.\u001b[39;00m\n\u001b[0;32m      9\u001b[0m     \u001b[39m# 각각의 플레이어 효용행렬을 잘라 넣어줘야 함\u001b[39;00m\n\u001b[0;32m     10\u001b[0m     t \u001b[39m=\u001b[39m [numpy\u001b[39m.\u001b[39marray(i, dtype \u001b[39m=\u001b[39m pygambit\u001b[39m.\u001b[39mRational) \u001b[39mfor\u001b[39;00m i \u001b[39min\u001b[39;00m Mtrx]\n\u001b[1;32m---> 11\u001b[0m     ret \u001b[39m=\u001b[39m pygambit\u001b[39m.\u001b[39;49mGame\u001b[39m.\u001b[39;49mfrom_arrays(t[\u001b[39m0\u001b[39;49m], t[\u001b[39m1\u001b[39;49m])\n\u001b[0;32m     12\u001b[0m     \u001b[39mif\u001b[39;00m isMixed \u001b[39m==\u001b[39m \u001b[39mTrue\u001b[39;00m :\n\u001b[0;32m     13\u001b[0m         \u001b[39mreturn\u001b[39;00m pygambit\u001b[39m.\u001b[39mnash\u001b[39m.\u001b[39mlcp_solve(ret, use_strategic\u001b[39m=\u001b[39m\u001b[39mTrue\u001b[39;00m, rational\u001b[39m=\u001b[39m\u001b[39mFalse\u001b[39;00m)\n",
      "File \u001b[1;32mpygambit\\lib\\game.pxi:153\u001b[0m, in \u001b[0;36mpygambit.lib.libgambit.Game.from_arrays\u001b[1;34m()\u001b[0m\n",
      "File \u001b[1;32mpygambit\\lib\\outcome.pxi:98\u001b[0m, in \u001b[0;36mpygambit.lib.libgambit.Outcome.__setitem__\u001b[1;34m()\u001b[0m\n",
      "\u001b[1;31mTypeError\u001b[0m: payoff argument should be a numeric type instance"
     ]
    }
   ],
   "source": [
    "import pygambit\n",
    "import numpy\n",
    "\n",
    "# 내쉬 균형\n",
    "# Mtrx : 유저 효용 행렬\n",
    "\n",
    "def nashSolution(Mtrx, isMixed) :\n",
    "    # 안타깝게도 2인 플레이어 전용.\n",
    "    # 각각의 플레이어 효용행렬을 잘라 넣어줘야 함\n",
    "    t = [numpy.array(i, dtype = pygambit.Rational) for i in Mtrx]\n",
    "    ret = pygambit.Game.from_arrays(t[0], t[1])\n",
    "    if isMixed == True :\n",
    "        return pygambit.nash.lcp_solve(ret, use_strategic=True, rational=False)\n",
    "    return pygambit.nash.enumpure_solve(ret)\n",
    "\n",
    "\n",
    "# 죄수의 딜레마 예시!\n",
    "# 리스트 2개를 묶는건 쉬워도 풀기는 어렵더라고... 그냥 하나로 받았어.\n",
    "nashSolution([[[5, 0.5],[10, 1]],[[5, 10],[0, 1]]], isMixed = False)\n"
   ]
  },
  {
   "cell_type": "code",
   "execution_count": null,
   "metadata": {},
   "outputs": [],
   "source": []
  }
 ],
 "metadata": {
  "kernelspec": {
   "display_name": "Python 3.10.6 ('KDD')",
   "language": "python",
   "name": "python3"
  },
  "language_info": {
   "codemirror_mode": {
    "name": "ipython",
    "version": 3
   },
   "file_extension": ".py",
   "mimetype": "text/x-python",
   "name": "python",
   "nbconvert_exporter": "python",
   "pygments_lexer": "ipython3",
   "version": "3.10.6"
  },
  "orig_nbformat": 4,
  "vscode": {
   "interpreter": {
    "hash": "18fbb93e9d945e0c2a56ec43efd4745b822f35ea7c30ab7b0d3801077f7ce619"
   }
  }
 },
 "nbformat": 4,
 "nbformat_minor": 2
}
