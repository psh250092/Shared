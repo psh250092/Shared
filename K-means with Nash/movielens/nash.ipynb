{
 "cells": [
  {
   "cell_type": "code",
   "execution_count": 5,
   "metadata": {},
   "outputs": [
    {
     "data": {
      "text/plain": [
       "[[[Rational(0, 1), Rational(1, 1)], [Rational(0, 1), Rational(1, 1)]]]"
      ]
     },
     "execution_count": 5,
     "metadata": {},
     "output_type": "execute_result"
    }
   ],
   "source": [
    "import pygambit\n",
    "import numpy\n",
    "\n",
    "# 내쉬 균형\n",
    "# Mtrx : 유저 효용 행렬\n",
    "\n",
    "def nashSolution(Mtrx, isMixed) :\n",
    "    # 안타깝게도 2인 플레이어 전용.\n",
    "    # 각각의 플레이어 효용행렬을 잘라 넣어줘야 함\n",
    "    t = [numpy.array(i, dtype = pygambit.Rational) for i in Mtrx]\n",
    "    ret = pygambit.Game.from_arrays(t[0], t[1])\n",
    "    if isMixed == True :\n",
    "        return pygambit.nash.lcp_solve(ret, use_strategic=True, rational=False)\n",
    "    return pygambit.nash.enumpure_solve(ret)\n",
    "\n",
    "\n",
    "# 죄수의 딜레마 예시!\n",
    "# 리스트 2개를 묶는건 쉬워도 풀기는 어렵더라고... 그냥 하나로 받았어.\n",
    "nashSolution([[[5, 0],[10, 1]],[[5, 10],[0, 1]]], isMixed = False)\n"
   ]
  },
  {
   "cell_type": "code",
   "execution_count": null,
   "metadata": {},
   "outputs": [],
   "source": []
  }
 ],
 "metadata": {
  "kernelspec": {
   "display_name": "Python 3.10.8 64-bit (microsoft store)",
   "language": "python",
   "name": "python3"
  },
  "language_info": {
   "codemirror_mode": {
    "name": "ipython",
    "version": 3
   },
   "file_extension": ".py",
   "mimetype": "text/x-python",
   "name": "python",
   "nbconvert_exporter": "python",
   "pygments_lexer": "ipython3",
   "version": "3.10.8"
  },
  "orig_nbformat": 4,
  "vscode": {
   "interpreter": {
    "hash": "53c37993659b1a70d0a63a429f41acdefb6b9d110dbf61aa4bf4026fc69b1bd9"
   }
  }
 },
 "nbformat": 4,
 "nbformat_minor": 2
}
