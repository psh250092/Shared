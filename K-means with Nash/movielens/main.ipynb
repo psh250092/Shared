{
 "cells": [
  {
   "cell_type": "code",
   "execution_count": 5,
   "metadata": {},
   "outputs": [],
   "source": [
    "import numpy as np\n",
    "from data_load import data_load_100k, data_load_1m\n",
    "import pandas as pd\n",
    "\n",
    "arg = {\n",
    "    'fold': ['u1', 'u2', 'u3', 'u4', 'u5']\n",
    "}"
   ]
  },
  {
   "cell_type": "code",
   "execution_count": 2,
   "metadata": {},
   "outputs": [],
   "source": [
    "R = [0,0,0,0,0] # train set\n",
    "T = [0,0,0,0,0] # test, validation set\n",
    "\n",
    "for fold in range(5):\n",
    "    R[fold], T[fold] = data_load_100k(arg['fold'][fold], False)\n",
    "\n",
    "numUsers = len(R[0])\n",
    "numItems = len(R[0][0])"
   ]
  },
  {
   "cell_type": "markdown",
   "metadata": {},
   "source": [
    "numUsers : 현재 유저는 943명  \n",
    "numItems : 개수는 1682개\n",
    "\n",
    "943개의 유저(행) 마다 1682개의 아이템(열) 들에 몇 점을 주었는지 1~5점으로 표시되고 있다.  \n",
    "0점인 점수는 아직 평가하지 않은 아이템이다.\n",
    "\n",
    "R 은 train data,  \n",
    "T 는 test data 를 뜻한다."
   ]
  },
  {
   "cell_type": "code",
   "execution_count": 3,
   "metadata": {},
   "outputs": [
    {
     "name": "stdout",
     "output_type": "stream",
     "text": [
      "(943, 1682)\n",
      "(943, 1682)\n"
     ]
    }
   ],
   "source": [
    "print(np.array(R[0]).shape)\n",
    "print(np.array(T[0]).shape)"
   ]
  },
  {
   "cell_type": "code",
   "execution_count": null,
   "metadata": {},
   "outputs": [],
   "source": []
  },
  {
   "cell_type": "code",
   "execution_count": null,
   "metadata": {},
   "outputs": [],
   "source": []
  }
 ],
 "metadata": {
  "kernelspec": {
   "display_name": "Python 3.7.13 ('inha')",
   "language": "python",
   "name": "python3"
  },
  "language_info": {
   "codemirror_mode": {
    "name": "ipython",
    "version": 3
   },
   "file_extension": ".py",
   "mimetype": "text/x-python",
   "name": "python",
   "nbconvert_exporter": "python",
   "pygments_lexer": "ipython3",
   "version": "3.7.13"
  },
  "orig_nbformat": 4,
  "vscode": {
   "interpreter": {
    "hash": "404016a86179f1bff6d4c6ccfc6375f100a338b4a08d0c2c0e3df3f9c8509448"
   }
  }
 },
 "nbformat": 4,
 "nbformat_minor": 2
}
