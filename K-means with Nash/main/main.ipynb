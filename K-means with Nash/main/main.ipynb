{
 "cells": [
  {
   "cell_type": "markdown",
   "metadata": {},
   "source": [
    "<hr>\n",
    "<h2> 0. Global Constance & Variable</h2>\n",
    "Config global values\n",
    "<hr>"
   ]
  },
  {
   "cell_type": "code",
   "execution_count": 129,
   "metadata": {},
   "outputs": [],
   "source": [
    "_DATASET_ADDRESS_ = './dataset/'\n",
    "_PICKLE_ADDRESS_ = './pickle/'\n",
    "_K_ = 6\n",
    "\n",
    "_DELTA_ = 0.00005"
   ]
  },
  {
   "cell_type": "code",
   "execution_count": 178,
   "metadata": {},
   "outputs": [],
   "source": [
    "#기본 라이브러리\n",
    "import pandas as pd\n",
    "import numpy as np\n",
    "import math\n",
    "import time\n",
    "import pickle\n",
    "import nashpy\n",
    "import matplotlib.pyplot as plt\n",
    "from tqdm.notebook import tqdm\n",
    "\n",
    "tqdm.pandas()\n",
    "\n",
    "# SVD 행렬축소\n",
    "from sklearn.decomposition import TruncatedSVD\n",
    "\n",
    "# 제작 함수\n",
    "import func"
   ]
  },
  {
   "cell_type": "code",
   "execution_count": 131,
   "metadata": {},
   "outputs": [
    {
     "name": "stdout",
     "output_type": "stream",
     "text": [
      "총 주어진 ratings 데이터 :  (100000, 3)\n"
     ]
    }
   ],
   "source": [
    "\n",
    "#데이터 불러오기\n",
    "ratings = pd.read_csv(\"u.data.txt\", header=None, sep='\\t')\n",
    "ratings.columns = ['userid','movieid','rating','timestamp']\n",
    "ratings = ratings.drop(['timestamp'], axis=1)\n",
    "print(\"총 주어진 ratings 데이터 : \", ratings.shape)\n",
    "rating_table= pd.pivot_table(ratings, values='rating', index=['userid'], columns=['movieid'])"
   ]
  },
  {
   "cell_type": "code",
   "execution_count": 132,
   "metadata": {},
   "outputs": [],
   "source": [
    "# 80000 row\n",
    "user_train_raw = pd.read_csv(_DATASET_ADDRESS_ + 'u1.base', sep='\\t',names=[\"userID\",\"itemID\",\"rating\",\"timestamp\"],header=None, na_filter=False)\n",
    "user_train_raw = user_train_raw[['userID','itemID','rating']]\n",
    "user_train = user_train_raw.pivot_table('rating', index = 'userID',columns = 'itemID').fillna(0)\n",
    "user_train_raw = user_train_raw.pivot_table('rating', index = 'userID',columns = 'itemID')\n",
    "\n",
    "# 20000 row\n",
    "user_test = pd.read_csv(_DATASET_ADDRESS_ + 'u1.test', sep='\\t',names=[\"userID\",\"itemID\",\"rating\",\"timestamp\"],header=None, na_filter=False)\n",
    "user_test = user_test[['userID','itemID','rating']]\n",
    "user_test = user_test.pivot_table('rating', index = 'userID',columns = 'itemID').fillna(0)"
   ]
  },
  {
   "cell_type": "markdown",
   "metadata": {},
   "source": [
    "<h3>MF define</h3>"
   ]
  },
  {
   "cell_type": "code",
   "execution_count": 133,
   "metadata": {},
   "outputs": [],
   "source": [
    "import numpy\n",
    "\n",
    "def matrix_factorization(R, P, Q, K, steps=300, alpha=0.0002, beta=0.02):\n",
    "\n",
    "    \n",
    "\n",
    "    '''\n",
    "    R: rating matrix\n",
    "    P: |U| * K (User features matrix)\n",
    "    Q: |D| * K (Item features matrix)\n",
    "    K: latent features\n",
    "    steps: iterations\n",
    "    alpha: learning rate\n",
    "    beta: regularization parameter\n",
    "    '''\n",
    "    Q = Q.T\n",
    "\n",
    "    start = time.time()\n",
    "    for step in range(steps):\n",
    "        print('epoch: %d, time: %f'%(step, time.time()-start))\n",
    "        for i in range(len(R)):\n",
    "            for j in range(len(R[0])):\n",
    "                if R[i][j] > 0:\n",
    "                    # calculate error\n",
    "                    eij = R[i][j] - numpy.dot(P[i,:],Q[:,j])\n",
    "\n",
    "                    for k in range(K):\n",
    "                        # calculate gradient with a and beta parameter\n",
    "                        P[i][k] = P[i][k] + alpha * (2 * eij * Q[k][j] - beta * P[i][k])\n",
    "                        Q[k][j] = Q[k][j] + alpha * (2 * eij * P[i][k] - beta * Q[k][j])\n",
    "\n",
    "        eR = numpy.dot(P,Q)\n",
    "\n",
    "        e = 0\n",
    "\n",
    "        for i in range(len(R)):\n",
    "\n",
    "            for j in range(len(R[0])):\n",
    "\n",
    "                if R[i][j] > 0:\n",
    "\n",
    "                    e = e + pow(R[i][j] - numpy.dot(P[i,:],Q[:,j]), 2)\n",
    "\n",
    "                    for k in range(K):\n",
    "\n",
    "                        e = e + (beta/2) * (pow(P[i][k],2) + pow(Q[k][j],2))\n",
    "        # 0.001: local minimum\n",
    "        if e < 0.001:\n",
    "\n",
    "            break\n",
    "\n",
    "    return P, Q.T"
   ]
  },
  {
   "cell_type": "code",
   "execution_count": 134,
   "metadata": {},
   "outputs": [
    {
     "name": "stdout",
     "output_type": "stream",
     "text": [
      "Found existing Result...\n"
     ]
    }
   ],
   "source": [
    "# N: num of User\n",
    "try:\n",
    "    with open(_PICKLE_ADDRESS_ + 'user_train.mf.pkl', 'rb') as f: \n",
    "        user_train_mf = pickle.load(f)\n",
    "        print(\"Found existing Result...\")\n",
    "except FileNotFoundError:\n",
    "    print(\"No existing Result, Calculating...\")\n",
    "\n",
    "    user_train_np = user_train.to_numpy()\n",
    "\n",
    "    N = len(user_train_np)\n",
    "    # M: num of Movie\n",
    "    M = len(user_train_np[0])\n",
    "\n",
    "    K = 5  #이거를 [5, 10, 15, 20, 25, 30]\n",
    "    \n",
    "    P = np.random.rand(N,K)\n",
    "    Q = np.random.rand(M,K)\n",
    "\n",
    "    #   nP, nQ = matrix_factorization(user_train_np, P, Q, K)\n",
    "    #user_train_mf = pd.DataFrame(nP@nQ.T)\n",
    "    with open(_PICKLE_ADDRESS_ + 'user_train.mf.pkl', 'wb') as f:\n",
    "        pickle.dump(user_train, f)"
   ]
  },
  {
   "cell_type": "markdown",
   "metadata": {},
   "source": [
    "<h3>Train data :</h3>\n",
    "<ol>\n",
    "    <li>user_train_raw : rating with <strong>NaN</strong></li>\n",
    "    <li>user_train     : rating filled with <strong>0</strong></li>\n",
    "    <li>user_train_mf  : rating filled by <strong>MF</strong></li>\n",
    "</ol>"
   ]
  },
  {
   "cell_type": "code",
   "execution_count": 135,
   "metadata": {},
   "outputs": [
    {
     "data": {
      "text/plain": [
       "((943, 1650), (943, 1650), (943, 1650))"
      ]
     },
     "execution_count": 135,
     "metadata": {},
     "output_type": "execute_result"
    }
   ],
   "source": [
    "#Test for loaded datas\n",
    "\n",
    "user_train_mf.shape, user_train_raw.shape, user_train.shape"
   ]
  },
  {
   "cell_type": "markdown",
   "metadata": {},
   "source": [
    "<br><br><br><br><br>\n",
    "<br><br><br><br><br>\n",
    "<hr>\n",
    "<h2> 2. Group clustering with K-means</h2>\n",
    "<hr>"
   ]
  },
  {
   "cell_type": "code",
   "execution_count": 136,
   "metadata": {},
   "outputs": [
    {
     "name": "stderr",
     "output_type": "stream",
     "text": [
      "c:\\_CSE\\Python\\Anaconda\\envs\\KDD\\lib\\site-packages\\sklearn\\cluster\\_kmeans.py:1334: UserWarning: KMeans is known to have a memory leak on Windows with MKL, when there are less chunks than available threads. You can avoid it by setting the environment variable OMP_NUM_THREADS=4.\n",
      "  warnings.warn(\n"
     ]
    }
   ],
   "source": [
    "from func import clustering\n",
    "\n",
    "train_data, test_data, km_center = clustering(_K_, user_train_mf, user_train, user_test)"
   ]
  },
  {
   "cell_type": "code",
   "execution_count": 137,
   "metadata": {},
   "outputs": [
    {
     "data": {
      "text/plain": [
       "(942, 1651)"
      ]
     },
     "execution_count": 137,
     "metadata": {},
     "output_type": "execute_result"
    }
   ],
   "source": [
    "train_data.shape"
   ]
  },
  {
   "cell_type": "markdown",
   "metadata": {},
   "source": [
    "<br><br><br><br><br>\n",
    "<br><br><br><br><br>\n",
    "<hr>\n",
    "<h2> 3. Group recommendation</h2>\n",
    "<ol>\n",
    "    <li> 1) AVG</li>\n",
    "    <li> 2) LM</li>\n",
    "    <li> 3) Nash</li>\n",
    "</ol>\n",
    "<hr>"
   ]
  },
  {
   "cell_type": "markdown",
   "metadata": {},
   "source": [
    "<h3>1) AVG</h3>"
   ]
  },
  {
   "cell_type": "code",
   "execution_count": 138,
   "metadata": {},
   "outputs": [
    {
     "data": {
      "text/plain": [
       "nan"
      ]
     },
     "execution_count": 138,
     "metadata": {},
     "output_type": "execute_result"
    }
   ],
   "source": [
    "user_train_raw.shape\n",
    "user_train_raw[1000][943]"
   ]
  },
  {
   "cell_type": "markdown",
   "metadata": {},
   "source": [
    "<h3>3) Nash</h3>"
   ]
  },
  {
   "cell_type": "code",
   "execution_count": 139,
   "metadata": {},
   "outputs": [],
   "source": [
    "def getStat(rating) :\n",
    "    ret = []\n",
    "    for idx, item in rating.T.iterrows() :\n",
    "        ret.append([item.count(), item.sum()])\n",
    "    return ret"
   ]
  },
  {
   "cell_type": "code",
   "execution_count": 140,
   "metadata": {},
   "outputs": [],
   "source": [
    "def deltaMatrix(rating) :\n",
    "    ret = []\n",
    "    for uidx, user in rating.iterrows() :\n",
    "        iidx = 0\n",
    "        tmp = []\n",
    "        for item in user :\n",
    "            userMean = stat[iidx][1] / stat[iidx][0]\n",
    "            hasRated = not math.isnan(item)\n",
    "            deltaSum = stat[iidx][1] - (item if hasRated else 0)\n",
    "            deltaCount = stat[iidx][0] - (1 if hasRated else 0)\n",
    "            tmp.append((userMean * deltaCount + _DELTA_) / (deltaSum + _DELTA_))\n",
    "            iidx += 1\n",
    "        ret.append(tmp)\n",
    "    return np.array(ret)"
   ]
  },
  {
   "cell_type": "code",
   "execution_count": 141,
   "metadata": {},
   "outputs": [],
   "source": [
    "for i in range(1,len(stat)) :\n",
    "    10"
   ]
  },
  {
   "cell_type": "code",
   "execution_count": 151,
   "metadata": {},
   "outputs": [],
   "source": [
    "def payoff(C, U, rating) :\n",
    "    delta_train = deltaMatrix(rating)\n",
    "    stat = getStat(rating)\n",
    "    ret1 = []\n",
    "    ret2 = []\n",
    "    d = []\n",
    "    for i in range(1,len(stat)) :\n",
    "        hasCRated = not math.isnan(rating.iloc[C, i])\n",
    "        hasURated = not math.isnan(rating.iloc[U, i])\n",
    "        deltaSum = stat[i][0] - (rating.iloc[C, i] if hasCRated else 0) - (rating.iloc[U, i] if hasURated else 0)\n",
    "        deltaCount = stat[i][1] - (1 if hasCRated else 0) - (1 if hasURated else 0)\n",
    "        d.append((stat[i][1] / stat[i][0] * deltaCount + _DELTA_) / (deltaSum + _DELTA_))\n",
    "    \n",
    "    print(delta_train.shape)\n",
    "    for i in range(1,len(stat)) :\n",
    "        tmp = []\n",
    "        for j in range(1,len(stat)) :\n",
    "            tmp.append(delta_train[C][i] / (d[i-1] if i != j else delta_train[U][j]))\n",
    "        ret1.append(tmp)\n",
    "    for i in range(1,len(stat)) :\n",
    "        tmp = []\n",
    "        for j in range(1,len(stat)) :\n",
    "            tmp.append(delta_train[U][i] / (d[i-1] if i != j else delta_train[C][j]))\n",
    "        ret2.append(tmp)\n",
    "    \n",
    "    return np.array(ret1), np.array(ret2)\n"
   ]
  },
  {
   "cell_type": "code",
   "execution_count": 152,
   "metadata": {},
   "outputs": [
    {
     "name": "stdout",
     "output_type": "stream",
     "text": [
      "(943, 1650)\n"
     ]
    }
   ],
   "source": [
    "payoffMatrix = payoff(1, 2, user_train_raw)"
   ]
  },
  {
   "cell_type": "code",
   "execution_count": 183,
   "metadata": {},
   "outputs": [
    {
     "data": {
      "text/plain": [
       "[1649]"
      ]
     },
     "execution_count": 183,
     "metadata": {},
     "output_type": "execute_result"
    }
   ],
   "source": [
    "payoffMatrix[0].shape, payoffMatrix[1].shape\n",
    "list(payoffMatrix[1][1].shape)\n",
    "plt.scatter()\n"
   ]
  },
  {
   "cell_type": "code",
   "execution_count": 175,
   "metadata": {},
   "outputs": [],
   "source": [
    "game = nashpy.Game(payoffMatrix[0], payoffMatrix[1])\n",
    "result = game.lemke_howson_enumeration()"
   ]
  },
  {
   "cell_type": "code",
   "execution_count": 176,
   "metadata": {},
   "outputs": [
    {
     "name": "stdout",
     "output_type": "stream",
     "text": [
      "(array([1., 0., 0., ..., 0., 0., 0.]), array([1., 0., 0., ..., 0., 0., 0.]))  \n",
      "(array([0., 1., 0., ..., 0., 0., 0.]), array([0., 1., 0., ..., 0., 0., 0.]))  \n",
      "(array([0., 0., 1., ..., 0., 0., 0.]), array([0., 0., 1., ..., 0., 0., 0.]))  \n",
      "(array([0., 0., 0., ..., 0., 0., 0.]), array([0., 0., 0., ..., 0., 0., 0.]))  \n",
      "(array([0., 0., 0., ..., 0., 0., 0.]), array([0., 0., 0., ..., 0., 0., 0.]))  \n",
      "(array([0., 0., 0., ..., 0., 0., 0.]), array([0., 0., 0., ..., 0., 0., 0.]))  \n",
      "(array([0., 0., 0., ..., 0., 0., 0.]), array([0., 0., 0., ..., 0., 0., 0.]))  \n",
      "(array([0., 0., 0., ..., 0., 0., 0.]), array([0., 0., 0., ..., 0., 0., 0.]))  \n",
      "(array([ 5.59947321e-05, -0.00000000e+00, -0.00000000e+00, ...,\n",
      "        5.35246790e-04,  0.00000000e+00,  0.00000000e+00]), array([nan, nan, nan, ..., nan, nan, nan]))  \n",
      "(array([0., 0., 0., ..., 0., 0., 0.]), array([0., 0., 0., ..., 0., 0., 0.]))  \n",
      "(array([0., 0., 0., ..., 0., 0., 0.]), array([0., 0., 0., ..., 0., 0., 0.]))  \n",
      "(array([0., 0., 0., ..., 0., 0., 0.]), array([0., 0., 0., ..., 0., 0., 0.]))  \n",
      "(array([0., 0., 0., ..., 0., 0., 0.]), array([0., 0., 0., ..., 0., 0., 0.]))  \n",
      "(array([0., 0., 0., ..., 0., 0., 0.]), array([0., 0., 0., ..., 0., 0., 0.]))  \n",
      "(array([0., 0., 0., ..., 0., 0., 0.]), array([0., 0., 0., ..., 0., 0., 0.]))  \n",
      "(array([0., 0., 0., ..., 0., 0., 0.]), array([0., 0., 0., ..., 0., 0., 0.]))  \n",
      "(array([0., 0., 0., ..., 0., 0., 0.]), array([0., 0., 0., ..., 0., 0., 0.]))  \n",
      "(array([0., 0., 0., ..., 0., 0., 0.]), array([0., 0., 0., ..., 0., 0., 0.]))  \n",
      "(array([0., 0., 0., ..., 0., 0., 0.]), array([0., 0., 0., ..., 0., 0., 0.]))  \n",
      "(array([0., 0., 0., ..., 0., 0., 0.]), array([0., 0., 0., ..., 0., 0., 0.]))  \n",
      "(array([0., 0., 0., ..., 0., 0., 0.]), array([0., 0., 0., ..., 0., 0., 0.]))  \n",
      "(array([0., 0., 0., ..., 0., 0., 0.]), array([0., 0., 0., ..., 0., 0., 0.]))  \n",
      "(array([0., 0., 0., ..., 0., 0., 0.]), array([0., 0., 0., ..., 0., 0., 0.]))  \n",
      "(array([0., 0., 0., ..., 0., 0., 0.]), array([0., 0., 0., ..., 0., 0., 0.]))  \n",
      "(array([0., 0., 0., ..., 0., 0., 0.]), array([0., 0., 0., ..., 0., 0., 0.]))  \n",
      "(array([0., 0., 0., ..., 0., 0., 0.]), array([0., 0., 0., ..., 0., 0., 0.]))  \n",
      "(array([0., 0., 0., ..., 0., 0., 0.]), array([0., 0., 0., ..., 0., 0., 0.]))  \n",
      "(array([0., 0., 0., ..., 0., 0., 0.]), array([0., 0., 0., ..., 0., 0., 0.]))  \n",
      "(array([0., 0., 0., ..., 0., 0., 0.]), array([0., 0., 0., ..., 0., 0., 0.]))  \n",
      "(array([0., 0., 0., ..., 0., 0., 0.]), array([0., 0., 0., ..., 0., 0., 0.]))  \n",
      "(array([0., 0., 0., ..., 0., 0., 0.]), array([0., 0., 0., ..., 0., 0., 0.]))  \n",
      "(array([0., 0., 0., ..., 0., 0., 0.]), array([0., 0., 0., ..., 0., 0., 0.]))  \n",
      "(array([0., 0., 0., ..., 0., 0., 0.]), array([0., 0., 0., ..., 0., 0., 0.]))  \n",
      "(array([0., 0., 0., ..., 0., 0., 0.]), array([0., 0., 0., ..., 0., 0., 0.]))  \n",
      "(array([0., 0., 0., ..., 0., 0., 0.]), array([0., 0., 0., ..., 0., 0., 0.]))  \n",
      "(array([0., 0., 0., ..., 0., 0., 0.]), array([0., 0., 0., ..., 0., 0., 0.]))  \n",
      "(array([0., 0., 0., ..., 0., 0., 0.]), array([0., 0., 0., ..., 0., 0., 0.]))  \n",
      "(array([0., 0., 0., ..., 0., 0., 0.]), array([0., 0., 0., ..., 0., 0., 0.]))  \n",
      "(array([0., 0., 0., ..., 0., 0., 0.]), array([0., 0., 0., ..., 0., 0., 0.]))  \n",
      "(array([0., 0., 0., ..., 0., 0., 0.]), array([0., 0., 0., ..., 0., 0., 0.]))  \n",
      "(array([0., 0., 0., ..., 0., 0., 0.]), array([0., 0., 0., ..., 0., 0., 0.]))  \n",
      "(array([0., 0., 0., ..., 0., 0., 0.]), array([0., 0., 0., ..., 0., 0., 0.]))  \n",
      "(array([0., 0., 0., ..., 0., 0., 0.]), array([0., 0., 0., ..., 0., 0., 0.]))  \n",
      "(array([0., 0., 0., ..., 0., 0., 0.]), array([0., 0., 0., ..., 0., 0., 0.]))  \n",
      "(array([0., 0., 0., ..., 0., 0., 0.]), array([0., 0., 0., ..., 0., 0., 0.]))  \n",
      "(array([0., 0., 0., ..., 0., 0., 0.]), array([0., 0., 0., ..., 0., 0., 0.]))  \n",
      "(array([0., 0., 0., ..., 0., 0., 0.]), array([0., 0., 0., ..., 0., 0., 0.]))  \n",
      "(array([0., 0., 0., ..., 0., 0., 0.]), array([0., 0., 0., ..., 0., 0., 0.]))  \n",
      "(array([0., 0., 0., ..., 0., 0., 0.]), array([0., 0., 0., ..., 0., 0., 0.]))  \n",
      "(array([0., 0., 0., ..., 0., 0., 0.]), array([0., 0., 0., ..., 0., 0., 0.]))  \n",
      "(array([0., 0., 0., ..., 0., 0., 0.]), array([0., 0., 0., ..., 0., 0., 0.]))  \n",
      "(array([0., 0., 0., ..., 0., 0., 0.]), array([0., 0., 0., ..., 0., 0., 0.]))  \n"
     ]
    },
    {
     "ename": "KeyboardInterrupt",
     "evalue": "",
     "output_type": "error",
     "traceback": [
      "\u001b[1;31m---------------------------------------------------------------------------\u001b[0m",
      "\u001b[1;31mKeyboardInterrupt\u001b[0m                         Traceback (most recent call last)",
      "Cell \u001b[1;32mIn [176], line 1\u001b[0m\n\u001b[1;32m----> 1\u001b[0m \u001b[39mfor\u001b[39;00m i \u001b[39min\u001b[39;00m result :\n\u001b[0;32m      2\u001b[0m     \u001b[39mif\u001b[39;00m i \u001b[39m!=\u001b[39m \u001b[39m0\u001b[39m:\n\u001b[0;32m      3\u001b[0m             \u001b[39mprint\u001b[39m(i, \u001b[39m\"\u001b[39m\u001b[39m \u001b[39m\u001b[39m\"\u001b[39m)\n",
      "File \u001b[1;32mc:\\_CSE\\Python\\Anaconda\\envs\\KDD\\lib\\site-packages\\nashpy\\game.py:129\u001b[0m, in \u001b[0;36mGame.lemke_howson_enumeration\u001b[1;34m(self)\u001b[0m\n\u001b[0;32m    116\u001b[0m \u001b[39m\"\"\"\u001b[39;00m\n\u001b[0;32m    117\u001b[0m \u001b[39mObtain Nash equilibria for all possible starting dropped labels\u001b[39;00m\n\u001b[0;32m    118\u001b[0m \u001b[39musing the lemke howson algorithm. See `Game.lemke_howson` for more\u001b[39;00m\n\u001b[1;32m   (...)\u001b[0m\n\u001b[0;32m    126\u001b[0m \u001b[39m    An equilibria\u001b[39;00m\n\u001b[0;32m    127\u001b[0m \u001b[39m\"\"\"\u001b[39;00m\n\u001b[0;32m    128\u001b[0m \u001b[39mfor\u001b[39;00m label \u001b[39min\u001b[39;00m \u001b[39mrange\u001b[39m(\u001b[39msum\u001b[39m(\u001b[39mself\u001b[39m\u001b[39m.\u001b[39mpayoff_matrices[\u001b[39m0\u001b[39m]\u001b[39m.\u001b[39mshape)):\n\u001b[1;32m--> 129\u001b[0m     \u001b[39myield\u001b[39;00m \u001b[39mself\u001b[39;49m\u001b[39m.\u001b[39;49mlemke_howson(initial_dropped_label\u001b[39m=\u001b[39;49mlabel)\n",
      "File \u001b[1;32mc:\\_CSE\\Python\\Anaconda\\envs\\KDD\\lib\\site-packages\\nashpy\\game.py:157\u001b[0m, in \u001b[0;36mGame.lemke_howson\u001b[1;34m(self, initial_dropped_label)\u001b[0m\n\u001b[0;32m    131\u001b[0m \u001b[39mdef\u001b[39;00m \u001b[39mlemke_howson\u001b[39m(\u001b[39mself\u001b[39m, initial_dropped_label):\n\u001b[0;32m    132\u001b[0m     \u001b[39m\"\"\"\u001b[39;00m\n\u001b[0;32m    133\u001b[0m \u001b[39m    Obtain the Nash equilibria using the Lemke Howson algorithm implemented\u001b[39;00m\n\u001b[0;32m    134\u001b[0m \u001b[39m    using integer pivoting.\u001b[39;00m\n\u001b[1;32m   (...)\u001b[0m\n\u001b[0;32m    155\u001b[0m \u001b[39m        An equilibria\u001b[39;00m\n\u001b[0;32m    156\u001b[0m \u001b[39m    \"\"\"\u001b[39;00m\n\u001b[1;32m--> 157\u001b[0m     \u001b[39mreturn\u001b[39;00m lemke_howson(\n\u001b[0;32m    158\u001b[0m         \u001b[39m*\u001b[39;49m\u001b[39mself\u001b[39;49m\u001b[39m.\u001b[39;49mpayoff_matrices, initial_dropped_label\u001b[39m=\u001b[39;49minitial_dropped_label\n\u001b[0;32m    159\u001b[0m     )\n",
      "File \u001b[1;32mc:\\_CSE\\Python\\Anaconda\\envs\\KDD\\lib\\site-packages\\nashpy\\algorithms\\lemke_howson.py:122\u001b[0m, in \u001b[0;36mlemke_howson\u001b[1;34m(A, B, initial_dropped_label)\u001b[0m\n\u001b[0;32m    119\u001b[0m \u001b[39m# First pivot (to drop a label)\u001b[39;00m\n\u001b[0;32m    120\u001b[0m entering_label \u001b[39m=\u001b[39m pivot_tableau(\u001b[39mnext\u001b[39m(tableux), initial_dropped_label)\n\u001b[0;32m    121\u001b[0m \u001b[39mwhile\u001b[39;00m (\n\u001b[1;32m--> 122\u001b[0m     non_basic_variables(row_tableau)\u001b[39m.\u001b[39munion(non_basic_variables(col_tableau))\n\u001b[0;32m    123\u001b[0m     \u001b[39m!=\u001b[39m full_labels\n\u001b[0;32m    124\u001b[0m ):\n\u001b[0;32m    125\u001b[0m     entering_label \u001b[39m=\u001b[39m pivot_tableau(\u001b[39mnext\u001b[39m(tableux), \u001b[39mnext\u001b[39m(\u001b[39miter\u001b[39m(entering_label)))\n\u001b[0;32m    127\u001b[0m row_strategy \u001b[39m=\u001b[39m tableau_to_strategy(\n\u001b[0;32m    128\u001b[0m     row_tableau, non_basic_variables(col_tableau), \u001b[39mrange\u001b[39m(A\u001b[39m.\u001b[39mshape[\u001b[39m0\u001b[39m])\n\u001b[0;32m    129\u001b[0m )\n",
      "File \u001b[1;32mc:\\_CSE\\Python\\Anaconda\\envs\\KDD\\lib\\site-packages\\nashpy\\integer_pivoting\\integer_pivoting.py:74\u001b[0m, in \u001b[0;36mnon_basic_variables\u001b[1;34m(tableau)\u001b[0m\n\u001b[0;32m     59\u001b[0m \u001b[39m\"\"\"\u001b[39;00m\n\u001b[0;32m     60\u001b[0m \u001b[39mIdentifies the non basic variables of a tableau,\u001b[39;00m\n\u001b[0;32m     61\u001b[0m \u001b[39mthese correspond to the labels.\u001b[39;00m\n\u001b[1;32m   (...)\u001b[0m\n\u001b[0;32m     71\u001b[0m \u001b[39m    The indices of the non basic variables.\u001b[39;00m\n\u001b[0;32m     72\u001b[0m \u001b[39m\"\"\"\u001b[39;00m\n\u001b[0;32m     73\u001b[0m columns \u001b[39m=\u001b[39m tableau[:, :\u001b[39m-\u001b[39m\u001b[39m1\u001b[39m]\u001b[39m.\u001b[39mtranspose()\n\u001b[1;32m---> 74\u001b[0m \u001b[39mreturn\u001b[39;00m \u001b[39mset\u001b[39m(np\u001b[39m.\u001b[39mwhere([np\u001b[39m.\u001b[39mcount_nonzero(col) \u001b[39m!=\u001b[39m \u001b[39m1\u001b[39m \u001b[39mfor\u001b[39;00m col \u001b[39min\u001b[39;00m columns])[\u001b[39m0\u001b[39m])\n",
      "File \u001b[1;32mc:\\_CSE\\Python\\Anaconda\\envs\\KDD\\lib\\site-packages\\nashpy\\integer_pivoting\\integer_pivoting.py:74\u001b[0m, in \u001b[0;36m<listcomp>\u001b[1;34m(.0)\u001b[0m\n\u001b[0;32m     59\u001b[0m \u001b[39m\"\"\"\u001b[39;00m\n\u001b[0;32m     60\u001b[0m \u001b[39mIdentifies the non basic variables of a tableau,\u001b[39;00m\n\u001b[0;32m     61\u001b[0m \u001b[39mthese correspond to the labels.\u001b[39;00m\n\u001b[1;32m   (...)\u001b[0m\n\u001b[0;32m     71\u001b[0m \u001b[39m    The indices of the non basic variables.\u001b[39;00m\n\u001b[0;32m     72\u001b[0m \u001b[39m\"\"\"\u001b[39;00m\n\u001b[0;32m     73\u001b[0m columns \u001b[39m=\u001b[39m tableau[:, :\u001b[39m-\u001b[39m\u001b[39m1\u001b[39m]\u001b[39m.\u001b[39mtranspose()\n\u001b[1;32m---> 74\u001b[0m \u001b[39mreturn\u001b[39;00m \u001b[39mset\u001b[39m(np\u001b[39m.\u001b[39mwhere([np\u001b[39m.\u001b[39;49mcount_nonzero(col) \u001b[39m!=\u001b[39m \u001b[39m1\u001b[39m \u001b[39mfor\u001b[39;00m col \u001b[39min\u001b[39;00m columns])[\u001b[39m0\u001b[39m])\n",
      "File \u001b[1;32m<__array_function__ internals>:180\u001b[0m, in \u001b[0;36mcount_nonzero\u001b[1;34m(*args, **kwargs)\u001b[0m\n",
      "File \u001b[1;32mc:\\_CSE\\Python\\Anaconda\\envs\\KDD\\lib\\site-packages\\numpy\\core\\numeric.py:486\u001b[0m, in \u001b[0;36mcount_nonzero\u001b[1;34m(a, axis, keepdims)\u001b[0m\n\u001b[0;32m    427\u001b[0m \u001b[39m\"\"\"\u001b[39;00m\n\u001b[0;32m    428\u001b[0m \u001b[39mCounts the number of non-zero values in the array ``a``.\u001b[39;00m\n\u001b[0;32m    429\u001b[0m \n\u001b[1;32m   (...)\u001b[0m\n\u001b[0;32m    483\u001b[0m \u001b[39m       [3]])\u001b[39;00m\n\u001b[0;32m    484\u001b[0m \u001b[39m\"\"\"\u001b[39;00m\n\u001b[0;32m    485\u001b[0m \u001b[39mif\u001b[39;00m axis \u001b[39mis\u001b[39;00m \u001b[39mNone\u001b[39;00m \u001b[39mand\u001b[39;00m \u001b[39mnot\u001b[39;00m keepdims:\n\u001b[1;32m--> 486\u001b[0m     \u001b[39mreturn\u001b[39;00m multiarray\u001b[39m.\u001b[39;49mcount_nonzero(a)\n\u001b[0;32m    488\u001b[0m a \u001b[39m=\u001b[39m asanyarray(a)\n\u001b[0;32m    490\u001b[0m \u001b[39m# TODO: this works around .astype(bool) not working properly (gh-9847)\u001b[39;00m\n",
      "\u001b[1;31mKeyboardInterrupt\u001b[0m: "
     ]
    }
   ],
   "source": [
    "for i in result :\n",
    "    if i != 0:\n",
    "            print(i, \" \")"
   ]
  }
 ],
 "metadata": {
  "kernelspec": {
   "display_name": "Python 3.10.6 ('KDD')",
   "language": "python",
   "name": "python3"
  },
  "language_info": {
   "codemirror_mode": {
    "name": "ipython",
    "version": 3
   },
   "file_extension": ".py",
   "mimetype": "text/x-python",
   "name": "python",
   "nbconvert_exporter": "python",
   "pygments_lexer": "ipython3",
   "version": "3.10.6"
  },
  "orig_nbformat": 4,
  "vscode": {
   "interpreter": {
    "hash": "18fbb93e9d945e0c2a56ec43efd4745b822f35ea7c30ab7b0d3801077f7ce619"
   }
  }
 },
 "nbformat": 4,
 "nbformat_minor": 2
}
