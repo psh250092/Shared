{
 "cells": [
  {
   "cell_type": "markdown",
   "metadata": {},
   "source": [
    "<hr>\n",
    "<h2> 0. Global Constance & Variable</h2>\n",
    "Config global values\n",
    "<hr>"
   ]
  },
  {
   "cell_type": "code",
   "execution_count": 1,
   "metadata": {},
   "outputs": [],
   "source": [
    "_DATASET_ADDRESS_ = './dataset/'\n",
    "_PICKLE_ADDRESS_ = './pickle/'\n",
    "_K_ = 6\n",
    "_TOP_N_PRUN_ = 10\n",
    "\n",
    "_DELTA_ = 0.00005"
   ]
  },
  {
   "cell_type": "code",
   "execution_count": 2,
   "metadata": {},
   "outputs": [],
   "source": [
    "#기본 라이브러리\n",
    "import pandas as pd\n",
    "import numpy as np\n",
    "import math\n",
    "import time\n",
    "import pickle\n",
    "import nashpy\n",
    "import matplotlib.pyplot as plt\n",
    "from tqdm.notebook import tqdm\n",
    "\n",
    "tqdm.pandas()\n",
    "\n",
    "# SVD 행렬축소\n",
    "from sklearn.decomposition import TruncatedSVD\n",
    "\n",
    "# 제작 함수\n",
    "import func\n",
    "import nashpayoff as npoff"
   ]
  },
  {
   "cell_type": "code",
   "execution_count": 3,
   "metadata": {},
   "outputs": [
    {
     "name": "stdout",
     "output_type": "stream",
     "text": [
      "총 주어진 ratings 데이터 :  (100000, 3)\n"
     ]
    }
   ],
   "source": [
    "\n",
    "#데이터 불러오기\n",
    "ratings = pd.read_csv(\"u.data.txt\", header=None, sep='\\t')\n",
    "ratings.columns = ['userid','movieid','rating','timestamp']\n",
    "ratings = ratings.drop(['timestamp'], axis=1)\n",
    "print(\"총 주어진 ratings 데이터 : \", ratings.shape)\n",
    "rating_table= pd.pivot_table(ratings, values='rating', index=['userid'], columns=['movieid'])"
   ]
  },
  {
   "cell_type": "code",
   "execution_count": 4,
   "metadata": {},
   "outputs": [],
   "source": [
    "# 80000 row\n",
    "user_train_raw = pd.read_csv(_DATASET_ADDRESS_ + 'u1.base', sep='\\t',names=[\"userID\",\"itemID\",\"rating\",\"timestamp\"],header=None, na_filter=False)\n",
    "user_train_raw = user_train_raw[['userID','itemID','rating']]\n",
    "user_train = user_train_raw.pivot_table('rating', index = 'userID',columns = 'itemID').fillna(0)\n",
    "user_train_raw = user_train_raw.pivot_table('rating', index = 'userID',columns = 'itemID')\n",
    "\n",
    "# 20000 row\n",
    "user_test = pd.read_csv(_DATASET_ADDRESS_ + 'u1.test', sep='\\t',names=[\"userID\",\"itemID\",\"rating\",\"timestamp\"],header=None, na_filter=False)\n",
    "user_test = user_test[['userID','itemID','rating']]\n",
    "user_test = user_test.pivot_table('rating', index = 'userID',columns = 'itemID').fillna(0)"
   ]
  },
  {
   "cell_type": "code",
   "execution_count": 5,
   "metadata": {},
   "outputs": [
    {
     "name": "stdout",
     "output_type": "stream",
     "text": [
      "Found existing Result...\n"
     ]
    }
   ],
   "source": [
    "# N: num of User\n",
    "try:\n",
    "    with open(_PICKLE_ADDRESS_ + 'user_train.mf.pkl', 'rb') as f: \n",
    "        user_train_mf = pickle.load(f)\n",
    "        print(\"Found existing Result...\")\n",
    "except FileNotFoundError:\n",
    "    print(\"No existing Result, Calculating...\")\n",
    "\n",
    "    user_train_np = user_train.to_numpy()\n",
    "\n",
    "    N = len(user_train_np)\n",
    "    # M: num of Movie\n",
    "    M = len(user_train_np[0])\n",
    "\n",
    "    K = 5  #이거를 [5, 10, 15, 20, 25, 30]\n",
    "    \n",
    "    P = np.random.rand(N,K)\n",
    "    Q = np.random.rand(M,K)\n",
    "\n",
    "    #   nP, nQ = matrix_factorization(user_train_np, P, Q, K)\n",
    "    #user_train_mf = pd.DataFrame(nP@nQ.T)\n",
    "    with open(_PICKLE_ADDRESS_ + 'user_train.mf.pkl', 'wb') as f:\n",
    "        pickle.dump(user_train, f)"
   ]
  },
  {
   "cell_type": "markdown",
   "metadata": {},
   "source": [
    "<h3>Train data :</h3>\n",
    "<ol>\n",
    "    <li>user_train_raw : rating with <strong>NaN</strong></li>\n",
    "    <li>user_train     : rating filled with <strong>0</strong></li>\n",
    "    <li>user_train_mf  : rating filled by <strong>MF</strong></li>\n",
    "</ol>"
   ]
  },
  {
   "cell_type": "code",
   "execution_count": 6,
   "metadata": {},
   "outputs": [
    {
     "data": {
      "text/plain": [
       "((943, 1650), (943, 1650), (943, 1650))"
      ]
     },
     "execution_count": 6,
     "metadata": {},
     "output_type": "execute_result"
    }
   ],
   "source": [
    "#Test for loaded datas\n",
    "\n",
    "user_train_mf.shape, user_train_raw.shape, user_train.shape"
   ]
  },
  {
   "cell_type": "markdown",
   "metadata": {},
   "source": [
    "<br><br><br><br><br>\n",
    "<br><br><br><br><br>\n",
    "<hr>\n",
    "<h2> 2. Group clustering with K-means</h2>\n",
    "<hr>"
   ]
  },
  {
   "cell_type": "code",
   "execution_count": 7,
   "metadata": {},
   "outputs": [
    {
     "name": "stderr",
     "output_type": "stream",
     "text": [
      "c:\\_CSE\\Python\\Anaconda\\envs\\KDD\\lib\\site-packages\\sklearn\\cluster\\_kmeans.py:1334: UserWarning: KMeans is known to have a memory leak on Windows with MKL, when there are less chunks than available threads. You can avoid it by setting the environment variable OMP_NUM_THREADS=4.\n",
      "  warnings.warn(\n"
     ]
    }
   ],
   "source": [
    "from func import clustering\n",
    "\n",
    "train_data, test_data, km_center = clustering(_K_, user_train_mf, user_train, user_test)"
   ]
  },
  {
   "cell_type": "code",
   "execution_count": 8,
   "metadata": {},
   "outputs": [
    {
     "data": {
      "text/plain": [
       "(942, 1651)"
      ]
     },
     "execution_count": 8,
     "metadata": {},
     "output_type": "execute_result"
    }
   ],
   "source": [
    "train_data.shape"
   ]
  },
  {
   "cell_type": "markdown",
   "metadata": {},
   "source": [
    "<br><br><br><br><br>\n",
    "<br><br><br><br><br>\n",
    "<hr>\n",
    "<h2> 3. Group recommendation</h2>\n",
    "<ol>\n",
    "    <li> 1) AVG</li>\n",
    "    <li> 2) LM</li>\n",
    "    <li> 3) Nash</li>\n",
    "</ol>\n",
    "<hr>"
   ]
  },
  {
   "cell_type": "markdown",
   "metadata": {},
   "source": [
    "<h3>1) AVG</h3>"
   ]
  },
  {
   "cell_type": "code",
   "execution_count": 9,
   "metadata": {},
   "outputs": [
    {
     "data": {
      "text/plain": [
       "nan"
      ]
     },
     "execution_count": 9,
     "metadata": {},
     "output_type": "execute_result"
    }
   ],
   "source": [
    "user_train_raw.shape\n",
    "user_train_raw[1000][943]"
   ]
  },
  {
   "cell_type": "markdown",
   "metadata": {},
   "source": [
    "<h3>3) Nash</h3>"
   ]
  },
  {
   "cell_type": "markdown",
   "metadata": {},
   "source": [
    "<strong>Step.1 Get DeltaMatrix</strong>\n",
    "<div>\n",
    "Get all user's delta of Group's average\n",
    "</div>"
   ]
  },
  {
   "cell_type": "code",
   "execution_count": 10,
   "metadata": {},
   "outputs": [],
   "source": [
    "delta_train_raw = npoff.deltaMatrix(user_train_raw)"
   ]
  },
  {
   "cell_type": "code",
   "execution_count": null,
   "metadata": {},
   "outputs": [],
   "source": []
  },
  {
   "cell_type": "code",
   "execution_count": 11,
   "metadata": {},
   "outputs": [
    {
     "data": {
      "text/html": [
       "<div>\n",
       "<style scoped>\n",
       "    .dataframe tbody tr th:only-of-type {\n",
       "        vertical-align: middle;\n",
       "    }\n",
       "\n",
       "    .dataframe tbody tr th {\n",
       "        vertical-align: top;\n",
       "    }\n",
       "\n",
       "    .dataframe thead th {\n",
       "        text-align: right;\n",
       "    }\n",
       "</style>\n",
       "<table border=\"1\" class=\"dataframe\">\n",
       "  <thead>\n",
       "    <tr style=\"text-align: right;\">\n",
       "      <th></th>\n",
       "      <th>0</th>\n",
       "      <th>1</th>\n",
       "      <th>2</th>\n",
       "      <th>3</th>\n",
       "      <th>4</th>\n",
       "      <th>5</th>\n",
       "      <th>6</th>\n",
       "      <th>7</th>\n",
       "      <th>8</th>\n",
       "      <th>9</th>\n",
       "      <th>...</th>\n",
       "      <th>1640</th>\n",
       "      <th>1641</th>\n",
       "      <th>1642</th>\n",
       "      <th>1643</th>\n",
       "      <th>1644</th>\n",
       "      <th>1645</th>\n",
       "      <th>1646</th>\n",
       "      <th>1647</th>\n",
       "      <th>1648</th>\n",
       "      <th>1649</th>\n",
       "    </tr>\n",
       "  </thead>\n",
       "  <tbody>\n",
       "    <tr>\n",
       "      <th>0</th>\n",
       "      <td>1.000745</td>\n",
       "      <td>0.999453</td>\n",
       "      <td>1.004525</td>\n",
       "      <td>0.999123</td>\n",
       "      <td>0.998647</td>\n",
       "      <td>1.0</td>\n",
       "      <td>1.000174</td>\n",
       "      <td>0.995661</td>\n",
       "      <td>1.001244</td>\n",
       "      <td>1.000000</td>\n",
       "      <td>...</td>\n",
       "      <td>1.000007</td>\n",
       "      <td>1.000007</td>\n",
       "      <td>1.000007</td>\n",
       "      <td>1.000005</td>\n",
       "      <td>1.000007</td>\n",
       "      <td>1.0</td>\n",
       "      <td>1.000007</td>\n",
       "      <td>1.000005</td>\n",
       "      <td>1.000007</td>\n",
       "      <td>1.000007</td>\n",
       "    </tr>\n",
       "    <tr>\n",
       "      <th>1</th>\n",
       "      <td>1.000072</td>\n",
       "      <td>1.000000</td>\n",
       "      <td>1.000000</td>\n",
       "      <td>1.000000</td>\n",
       "      <td>1.000000</td>\n",
       "      <td>1.0</td>\n",
       "      <td>1.000000</td>\n",
       "      <td>1.000000</td>\n",
       "      <td>1.000000</td>\n",
       "      <td>0.993321</td>\n",
       "      <td>...</td>\n",
       "      <td>1.000007</td>\n",
       "      <td>1.000007</td>\n",
       "      <td>1.000007</td>\n",
       "      <td>1.000005</td>\n",
       "      <td>1.000007</td>\n",
       "      <td>1.0</td>\n",
       "      <td>1.000007</td>\n",
       "      <td>1.000005</td>\n",
       "      <td>1.000007</td>\n",
       "      <td>1.000007</td>\n",
       "    </tr>\n",
       "    <tr>\n",
       "      <th>2</th>\n",
       "      <td>1.000000</td>\n",
       "      <td>1.000000</td>\n",
       "      <td>1.000000</td>\n",
       "      <td>1.000000</td>\n",
       "      <td>1.000000</td>\n",
       "      <td>1.0</td>\n",
       "      <td>1.000000</td>\n",
       "      <td>1.000000</td>\n",
       "      <td>1.000000</td>\n",
       "      <td>1.000000</td>\n",
       "      <td>...</td>\n",
       "      <td>1.000007</td>\n",
       "      <td>1.000007</td>\n",
       "      <td>1.000007</td>\n",
       "      <td>1.000005</td>\n",
       "      <td>1.000007</td>\n",
       "      <td>1.0</td>\n",
       "      <td>1.000007</td>\n",
       "      <td>1.000005</td>\n",
       "      <td>1.000007</td>\n",
       "      <td>1.000007</td>\n",
       "    </tr>\n",
       "    <tr>\n",
       "      <th>3</th>\n",
       "      <td>1.000000</td>\n",
       "      <td>1.000000</td>\n",
       "      <td>1.000000</td>\n",
       "      <td>1.000000</td>\n",
       "      <td>1.000000</td>\n",
       "      <td>1.0</td>\n",
       "      <td>1.000000</td>\n",
       "      <td>1.000000</td>\n",
       "      <td>1.000000</td>\n",
       "      <td>1.000000</td>\n",
       "      <td>...</td>\n",
       "      <td>1.000007</td>\n",
       "      <td>1.000007</td>\n",
       "      <td>1.000007</td>\n",
       "      <td>1.000005</td>\n",
       "      <td>1.000007</td>\n",
       "      <td>1.0</td>\n",
       "      <td>1.000007</td>\n",
       "      <td>1.000005</td>\n",
       "      <td>1.000007</td>\n",
       "      <td>1.000007</td>\n",
       "    </tr>\n",
       "    <tr>\n",
       "      <th>4</th>\n",
       "      <td>1.000000</td>\n",
       "      <td>1.000000</td>\n",
       "      <td>1.000000</td>\n",
       "      <td>1.000000</td>\n",
       "      <td>1.000000</td>\n",
       "      <td>1.0</td>\n",
       "      <td>1.000000</td>\n",
       "      <td>1.000000</td>\n",
       "      <td>1.000000</td>\n",
       "      <td>1.000000</td>\n",
       "      <td>...</td>\n",
       "      <td>1.000007</td>\n",
       "      <td>1.000007</td>\n",
       "      <td>1.000007</td>\n",
       "      <td>1.000005</td>\n",
       "      <td>1.000007</td>\n",
       "      <td>1.0</td>\n",
       "      <td>1.000007</td>\n",
       "      <td>1.000005</td>\n",
       "      <td>1.000007</td>\n",
       "      <td>1.000007</td>\n",
       "    </tr>\n",
       "    <tr>\n",
       "      <th>...</th>\n",
       "      <td>...</td>\n",
       "      <td>...</td>\n",
       "      <td>...</td>\n",
       "      <td>...</td>\n",
       "      <td>...</td>\n",
       "      <td>...</td>\n",
       "      <td>...</td>\n",
       "      <td>...</td>\n",
       "      <td>...</td>\n",
       "      <td>...</td>\n",
       "      <td>...</td>\n",
       "      <td>...</td>\n",
       "      <td>...</td>\n",
       "      <td>...</td>\n",
       "      <td>...</td>\n",
       "      <td>...</td>\n",
       "      <td>...</td>\n",
       "      <td>...</td>\n",
       "      <td>...</td>\n",
       "      <td>...</td>\n",
       "      <td>...</td>\n",
       "    </tr>\n",
       "    <tr>\n",
       "      <th>938</th>\n",
       "      <td>1.000000</td>\n",
       "      <td>1.000000</td>\n",
       "      <td>1.000000</td>\n",
       "      <td>1.000000</td>\n",
       "      <td>1.000000</td>\n",
       "      <td>1.0</td>\n",
       "      <td>1.000000</td>\n",
       "      <td>1.000000</td>\n",
       "      <td>1.001244</td>\n",
       "      <td>1.000000</td>\n",
       "      <td>...</td>\n",
       "      <td>1.000007</td>\n",
       "      <td>1.000007</td>\n",
       "      <td>1.000007</td>\n",
       "      <td>1.000005</td>\n",
       "      <td>1.000007</td>\n",
       "      <td>1.0</td>\n",
       "      <td>1.000007</td>\n",
       "      <td>1.000005</td>\n",
       "      <td>1.000007</td>\n",
       "      <td>1.000007</td>\n",
       "    </tr>\n",
       "    <tr>\n",
       "      <th>939</th>\n",
       "      <td>1.000000</td>\n",
       "      <td>1.000000</td>\n",
       "      <td>1.000000</td>\n",
       "      <td>0.997460</td>\n",
       "      <td>1.000000</td>\n",
       "      <td>1.0</td>\n",
       "      <td>1.000174</td>\n",
       "      <td>1.001466</td>\n",
       "      <td>0.999114</td>\n",
       "      <td>1.000000</td>\n",
       "      <td>...</td>\n",
       "      <td>1.000007</td>\n",
       "      <td>1.000007</td>\n",
       "      <td>1.000007</td>\n",
       "      <td>1.000005</td>\n",
       "      <td>1.000007</td>\n",
       "      <td>1.0</td>\n",
       "      <td>1.000007</td>\n",
       "      <td>1.000005</td>\n",
       "      <td>1.000007</td>\n",
       "      <td>1.000007</td>\n",
       "    </tr>\n",
       "    <tr>\n",
       "      <th>940</th>\n",
       "      <td>1.000745</td>\n",
       "      <td>1.000000</td>\n",
       "      <td>1.000000</td>\n",
       "      <td>1.000000</td>\n",
       "      <td>1.000000</td>\n",
       "      <td>1.0</td>\n",
       "      <td>1.000174</td>\n",
       "      <td>1.000000</td>\n",
       "      <td>1.000000</td>\n",
       "      <td>1.000000</td>\n",
       "      <td>...</td>\n",
       "      <td>1.000007</td>\n",
       "      <td>1.000007</td>\n",
       "      <td>1.000007</td>\n",
       "      <td>1.000005</td>\n",
       "      <td>1.000007</td>\n",
       "      <td>1.0</td>\n",
       "      <td>1.000007</td>\n",
       "      <td>1.000005</td>\n",
       "      <td>1.000007</td>\n",
       "      <td>1.000007</td>\n",
       "    </tr>\n",
       "    <tr>\n",
       "      <th>941</th>\n",
       "      <td>1.000000</td>\n",
       "      <td>1.000000</td>\n",
       "      <td>1.000000</td>\n",
       "      <td>1.000000</td>\n",
       "      <td>1.000000</td>\n",
       "      <td>1.0</td>\n",
       "      <td>1.000000</td>\n",
       "      <td>1.000000</td>\n",
       "      <td>1.000000</td>\n",
       "      <td>1.000000</td>\n",
       "      <td>...</td>\n",
       "      <td>1.000007</td>\n",
       "      <td>1.000007</td>\n",
       "      <td>1.000007</td>\n",
       "      <td>1.000005</td>\n",
       "      <td>1.000007</td>\n",
       "      <td>1.0</td>\n",
       "      <td>1.000007</td>\n",
       "      <td>1.000005</td>\n",
       "      <td>1.000007</td>\n",
       "      <td>1.000007</td>\n",
       "    </tr>\n",
       "    <tr>\n",
       "      <th>942</th>\n",
       "      <td>1.000000</td>\n",
       "      <td>1.005529</td>\n",
       "      <td>1.000000</td>\n",
       "      <td>1.000000</td>\n",
       "      <td>1.000000</td>\n",
       "      <td>1.0</td>\n",
       "      <td>1.000000</td>\n",
       "      <td>1.000000</td>\n",
       "      <td>0.999114</td>\n",
       "      <td>1.000000</td>\n",
       "      <td>...</td>\n",
       "      <td>1.000007</td>\n",
       "      <td>1.000007</td>\n",
       "      <td>1.000007</td>\n",
       "      <td>1.000005</td>\n",
       "      <td>1.000007</td>\n",
       "      <td>1.0</td>\n",
       "      <td>1.000007</td>\n",
       "      <td>1.000005</td>\n",
       "      <td>1.000007</td>\n",
       "      <td>1.000007</td>\n",
       "    </tr>\n",
       "  </tbody>\n",
       "</table>\n",
       "<p>943 rows × 1650 columns</p>\n",
       "</div>"
      ],
      "text/plain": [
       "         0         1         2         3         4     5         6     \\\n",
       "0    1.000745  0.999453  1.004525  0.999123  0.998647   1.0  1.000174   \n",
       "1    1.000072  1.000000  1.000000  1.000000  1.000000   1.0  1.000000   \n",
       "2    1.000000  1.000000  1.000000  1.000000  1.000000   1.0  1.000000   \n",
       "3    1.000000  1.000000  1.000000  1.000000  1.000000   1.0  1.000000   \n",
       "4    1.000000  1.000000  1.000000  1.000000  1.000000   1.0  1.000000   \n",
       "..        ...       ...       ...       ...       ...   ...       ...   \n",
       "938  1.000000  1.000000  1.000000  1.000000  1.000000   1.0  1.000000   \n",
       "939  1.000000  1.000000  1.000000  0.997460  1.000000   1.0  1.000174   \n",
       "940  1.000745  1.000000  1.000000  1.000000  1.000000   1.0  1.000174   \n",
       "941  1.000000  1.000000  1.000000  1.000000  1.000000   1.0  1.000000   \n",
       "942  1.000000  1.005529  1.000000  1.000000  1.000000   1.0  1.000000   \n",
       "\n",
       "         7         8         9     ...      1640      1641      1642  \\\n",
       "0    0.995661  1.001244  1.000000  ...  1.000007  1.000007  1.000007   \n",
       "1    1.000000  1.000000  0.993321  ...  1.000007  1.000007  1.000007   \n",
       "2    1.000000  1.000000  1.000000  ...  1.000007  1.000007  1.000007   \n",
       "3    1.000000  1.000000  1.000000  ...  1.000007  1.000007  1.000007   \n",
       "4    1.000000  1.000000  1.000000  ...  1.000007  1.000007  1.000007   \n",
       "..        ...       ...       ...  ...       ...       ...       ...   \n",
       "938  1.000000  1.001244  1.000000  ...  1.000007  1.000007  1.000007   \n",
       "939  1.001466  0.999114  1.000000  ...  1.000007  1.000007  1.000007   \n",
       "940  1.000000  1.000000  1.000000  ...  1.000007  1.000007  1.000007   \n",
       "941  1.000000  1.000000  1.000000  ...  1.000007  1.000007  1.000007   \n",
       "942  1.000000  0.999114  1.000000  ...  1.000007  1.000007  1.000007   \n",
       "\n",
       "         1643      1644  1645      1646      1647      1648      1649  \n",
       "0    1.000005  1.000007   1.0  1.000007  1.000005  1.000007  1.000007  \n",
       "1    1.000005  1.000007   1.0  1.000007  1.000005  1.000007  1.000007  \n",
       "2    1.000005  1.000007   1.0  1.000007  1.000005  1.000007  1.000007  \n",
       "3    1.000005  1.000007   1.0  1.000007  1.000005  1.000007  1.000007  \n",
       "4    1.000005  1.000007   1.0  1.000007  1.000005  1.000007  1.000007  \n",
       "..        ...       ...   ...       ...       ...       ...       ...  \n",
       "938  1.000005  1.000007   1.0  1.000007  1.000005  1.000007  1.000007  \n",
       "939  1.000005  1.000007   1.0  1.000007  1.000005  1.000007  1.000007  \n",
       "940  1.000005  1.000007   1.0  1.000007  1.000005  1.000007  1.000007  \n",
       "941  1.000005  1.000007   1.0  1.000007  1.000005  1.000007  1.000007  \n",
       "942  1.000005  1.000007   1.0  1.000007  1.000005  1.000007  1.000007  \n",
       "\n",
       "[943 rows x 1650 columns]"
      ]
     },
     "execution_count": 11,
     "metadata": {},
     "output_type": "execute_result"
    }
   ],
   "source": [
    "df = pd.DataFrame(delta_train_raw)\n",
    "df"
   ]
  },
  {
   "cell_type": "markdown",
   "metadata": {},
   "source": [
    "<strong>Step.2 Get payoff matrix</string>"
   ]
  },
  {
   "cell_type": "code",
   "execution_count": 14,
   "metadata": {},
   "outputs": [],
   "source": [
    "\n",
    "payoffMatrix = npoff.payoff(4, 10, user_train_raw, delta_train_raw)"
   ]
  },
  {
   "cell_type": "markdown",
   "metadata": {},
   "source": [
    "<strong>Step.3 Pruning payoff matrix</string>"
   ]
  },
  {
   "cell_type": "code",
   "execution_count": 12,
   "metadata": {},
   "outputs": [],
   "source": [
    "def pruning(N, payoffMatrix) :\n",
    "    #IMPORTANT : N strategy of each players, Output will be (2N * 2N)\n",
    "    df1 = pd.DataFrame(payoffMatrix[0])[0:1].sort_values(by=0, axis=1, ascending=False).iloc[0,:N]\n",
    "    df2 = pd.DataFrame(payoffMatrix[1])[0:1].sort_values(by=0, axis=1, ascending=False).iloc[0,:N]\n",
    "    candidate = (df1.append(df2)).sort_index().index\n",
    "    ret = []\n",
    "    tmp1 = []\n",
    "    tmp2 = []\n",
    "    app1 = []\n",
    "    app2 = []\n",
    "    for i in df1.index :\n",
    "        tmp1.append(payoffMatrix[0][i][:])\n",
    "        tmp2.append(payoffMatrix[1][i][:])\n",
    "    for i in df1.index :\n",
    "        app1.append(np.transpose(tmp1)[i])\n",
    "        app2.append(np.transpose(tmp2)[i])\n",
    "        \n",
    "    ret.append(np.transpose(app1))\n",
    "    ret.append(np.transpose(app2))\n",
    "    return ret"
   ]
  },
  {
   "cell_type": "code",
   "execution_count": 16,
   "metadata": {},
   "outputs": [
    {
     "name": "stderr",
     "output_type": "stream",
     "text": [
      "C:\\Users\\psh25\\AppData\\Local\\Temp\\ipykernel_25844\\2826938188.py:5: FutureWarning: The series.append method is deprecated and will be removed from pandas in a future version. Use pandas.concat instead.\n",
      "  candidate = (df1.append(df2)).sort_index().index\n"
     ]
    }
   ],
   "source": [
    "payoffMatrix = pruning(_TOP_N_PRUN_, payoffMatrix)"
   ]
  },
  {
   "cell_type": "code",
   "execution_count": 17,
   "metadata": {},
   "outputs": [
    {
     "name": "stderr",
     "output_type": "stream",
     "text": [
      "C:\\Users\\psh25\\AppData\\Local\\Temp\\ipykernel_25844\\2826938188.py:5: FutureWarning: The series.append method is deprecated and will be removed from pandas in a future version. Use pandas.concat instead.\n",
      "  candidate = (df1.append(df2)).sort_index().index\n"
     ]
    },
    {
     "data": {
      "text/html": [
       "<div>\n",
       "<style scoped>\n",
       "    .dataframe tbody tr th:only-of-type {\n",
       "        vertical-align: middle;\n",
       "    }\n",
       "\n",
       "    .dataframe tbody tr th {\n",
       "        vertical-align: top;\n",
       "    }\n",
       "\n",
       "    .dataframe thead th {\n",
       "        text-align: right;\n",
       "    }\n",
       "</style>\n",
       "<table border=\"1\" class=\"dataframe\">\n",
       "  <thead>\n",
       "    <tr style=\"text-align: right;\">\n",
       "      <th></th>\n",
       "      <th>0</th>\n",
       "      <th>1</th>\n",
       "      <th>2</th>\n",
       "      <th>3</th>\n",
       "      <th>4</th>\n",
       "      <th>5</th>\n",
       "      <th>6</th>\n",
       "      <th>7</th>\n",
       "      <th>8</th>\n",
       "      <th>9</th>\n",
       "    </tr>\n",
       "  </thead>\n",
       "  <tbody>\n",
       "    <tr>\n",
       "      <th>0</th>\n",
       "      <td>10.118457</td>\n",
       "      <td>3.515792</td>\n",
       "      <td>3.455852</td>\n",
       "      <td>3.425643</td>\n",
       "      <td>3.296053</td>\n",
       "      <td>3.243696</td>\n",
       "      <td>3.240838</td>\n",
       "      <td>3.224478</td>\n",
       "      <td>3.210239</td>\n",
       "      <td>3.200014</td>\n",
       "    </tr>\n",
       "    <tr>\n",
       "      <th>1</th>\n",
       "      <td>7.666645</td>\n",
       "      <td>22.999933</td>\n",
       "      <td>8.329200</td>\n",
       "      <td>8.256392</td>\n",
       "      <td>7.944058</td>\n",
       "      <td>7.817869</td>\n",
       "      <td>7.810980</td>\n",
       "      <td>7.771549</td>\n",
       "      <td>7.737232</td>\n",
       "      <td>7.712587</td>\n",
       "    </tr>\n",
       "    <tr>\n",
       "      <th>2</th>\n",
       "      <td>4.199994</td>\n",
       "      <td>4.642102</td>\n",
       "      <td>10.266651</td>\n",
       "      <td>4.523073</td>\n",
       "      <td>4.351968</td>\n",
       "      <td>4.282838</td>\n",
       "      <td>4.279064</td>\n",
       "      <td>4.257463</td>\n",
       "      <td>4.238663</td>\n",
       "      <td>4.225162</td>\n",
       "    </tr>\n",
       "    <tr>\n",
       "      <th>3</th>\n",
       "      <td>2.999996</td>\n",
       "      <td>3.315788</td>\n",
       "      <td>3.259257</td>\n",
       "      <td>5.999992</td>\n",
       "      <td>3.108549</td>\n",
       "      <td>3.059171</td>\n",
       "      <td>3.056475</td>\n",
       "      <td>3.041046</td>\n",
       "      <td>3.027617</td>\n",
       "      <td>3.017973</td>\n",
       "    </tr>\n",
       "    <tr>\n",
       "      <th>4</th>\n",
       "      <td>2.124999</td>\n",
       "      <td>2.348686</td>\n",
       "      <td>2.308643</td>\n",
       "      <td>2.288462</td>\n",
       "      <td>3.914472</td>\n",
       "      <td>2.166915</td>\n",
       "      <td>2.165005</td>\n",
       "      <td>2.154076</td>\n",
       "      <td>2.144564</td>\n",
       "      <td>2.137733</td>\n",
       "    </tr>\n",
       "    <tr>\n",
       "      <th>5</th>\n",
       "      <td>3.228571</td>\n",
       "      <td>3.568424</td>\n",
       "      <td>3.507586</td>\n",
       "      <td>3.476925</td>\n",
       "      <td>3.345395</td>\n",
       "      <td>9.201427</td>\n",
       "      <td>3.289353</td>\n",
       "      <td>3.272748</td>\n",
       "      <td>3.258297</td>\n",
       "      <td>3.247918</td>\n",
       "    </tr>\n",
       "    <tr>\n",
       "      <th>6</th>\n",
       "      <td>2.499999</td>\n",
       "      <td>2.763159</td>\n",
       "      <td>2.716050</td>\n",
       "      <td>2.692309</td>\n",
       "      <td>2.590460</td>\n",
       "      <td>2.549311</td>\n",
       "      <td>5.476189</td>\n",
       "      <td>2.534207</td>\n",
       "      <td>2.523017</td>\n",
       "      <td>2.514980</td>\n",
       "    </tr>\n",
       "    <tr>\n",
       "      <th>7</th>\n",
       "      <td>3.173077</td>\n",
       "      <td>3.507088</td>\n",
       "      <td>3.447295</td>\n",
       "      <td>3.417162</td>\n",
       "      <td>3.287893</td>\n",
       "      <td>3.235665</td>\n",
       "      <td>3.232814</td>\n",
       "      <td>8.831730</td>\n",
       "      <td>3.202291</td>\n",
       "      <td>3.192091</td>\n",
       "    </tr>\n",
       "    <tr>\n",
       "      <th>8</th>\n",
       "      <td>3.693877</td>\n",
       "      <td>4.082710</td>\n",
       "      <td>4.013104</td>\n",
       "      <td>3.978024</td>\n",
       "      <td>3.827538</td>\n",
       "      <td>3.766738</td>\n",
       "      <td>3.763419</td>\n",
       "      <td>3.744421</td>\n",
       "      <td>12.449734</td>\n",
       "      <td>3.716013</td>\n",
       "    </tr>\n",
       "    <tr>\n",
       "      <th>9</th>\n",
       "      <td>3.761194</td>\n",
       "      <td>4.157112</td>\n",
       "      <td>4.086238</td>\n",
       "      <td>4.050519</td>\n",
       "      <td>3.897290</td>\n",
       "      <td>3.835383</td>\n",
       "      <td>3.832003</td>\n",
       "      <td>3.812659</td>\n",
       "      <td>3.795823</td>\n",
       "      <td>13.216416</td>\n",
       "    </tr>\n",
       "  </tbody>\n",
       "</table>\n",
       "</div>"
      ],
      "text/plain": [
       "           0          1          2         3         4         5         6  \\\n",
       "0  10.118457   3.515792   3.455852  3.425643  3.296053  3.243696  3.240838   \n",
       "1   7.666645  22.999933   8.329200  8.256392  7.944058  7.817869  7.810980   \n",
       "2   4.199994   4.642102  10.266651  4.523073  4.351968  4.282838  4.279064   \n",
       "3   2.999996   3.315788   3.259257  5.999992  3.108549  3.059171  3.056475   \n",
       "4   2.124999   2.348686   2.308643  2.288462  3.914472  2.166915  2.165005   \n",
       "5   3.228571   3.568424   3.507586  3.476925  3.345395  9.201427  3.289353   \n",
       "6   2.499999   2.763159   2.716050  2.692309  2.590460  2.549311  5.476189   \n",
       "7   3.173077   3.507088   3.447295  3.417162  3.287893  3.235665  3.232814   \n",
       "8   3.693877   4.082710   4.013104  3.978024  3.827538  3.766738  3.763419   \n",
       "9   3.761194   4.157112   4.086238  4.050519  3.897290  3.835383  3.832003   \n",
       "\n",
       "          7          8          9  \n",
       "0  3.224478   3.210239   3.200014  \n",
       "1  7.771549   7.737232   7.712587  \n",
       "2  4.257463   4.238663   4.225162  \n",
       "3  3.041046   3.027617   3.017973  \n",
       "4  2.154076   2.144564   2.137733  \n",
       "5  3.272748   3.258297   3.247918  \n",
       "6  2.534207   2.523017   2.514980  \n",
       "7  8.831730   3.202291   3.192091  \n",
       "8  3.744421  12.449734   3.716013  \n",
       "9  3.812659   3.795823  13.216416  "
      ]
     },
     "execution_count": 17,
     "metadata": {},
     "output_type": "execute_result"
    }
   ],
   "source": [
    "\n",
    "pruned_payoff = pruning(_TOP_N_PRUN_, payoffMatrix)\n",
    "df = pd.DataFrame(pruned_payoff[0])\n",
    "df"
   ]
  },
  {
   "cell_type": "code",
   "execution_count": 18,
   "metadata": {},
   "outputs": [
    {
     "data": {
      "image/png": "[encoded data removed]",
      "text/plain": [
       "<Figure size 600x320 with 3 Axes>"
      ]
     },
     "metadata": {},
     "output_type": "display_data"
    }
   ],
   "source": [
    "\n",
    "func.showColormap(pruned_payoff[0])"
   ]
  },
  {
   "cell_type": "code",
   "execution_count": 19,
   "metadata": {},
   "outputs": [
    {
     "data": {
      "text/plain": [
       "(array([1.53206087e-17, 1.53206087e-17, 1.53206087e-17, 1.53206087e-17,\n",
       "        1.53206087e-17, 0.00000000e+00, 1.53206087e-17, 1.00000000e+00,\n",
       "        1.53206087e-17, 0.00000000e+00]),\n",
       " array([ 1.53206087e-17,  0.00000000e+00,  1.53206087e-17,  0.00000000e+00,\n",
       "         1.53206087e-17,  1.53206087e-17, -1.53206087e-17,  1.00000000e+00,\n",
       "         0.00000000e+00,  0.00000000e+00]))"
      ]
     },
     "execution_count": 19,
     "metadata": {},
     "output_type": "execute_result"
    }
   ],
   "source": [
    "game = nashpy.Game(pruned_payoff[0], pruned_payoff[1])\n",
    "result = next(game.vertex_enumeration())\n",
    "result"
   ]
  }
 ],
 "metadata": {
  "kernelspec": {
   "display_name": "Python 3.10.6 ('KDD')",
   "language": "python",
   "name": "python3"
  },
  "language_info": {
   "codemirror_mode": {
    "name": "ipython",
    "version": 3
   },
   "file_extension": ".py",
   "mimetype": "text/x-python",
   "name": "python",
   "nbconvert_exporter": "python",
   "pygments_lexer": "ipython3",
   "version": "3.10.6"
  },
  "orig_nbformat": 4,
  "vscode": {
   "interpreter": {
    "hash": "18fbb93e9d945e0c2a56ec43efd4745b822f35ea7c30ab7b0d3801077f7ce619"
   }
  }
 },
 "nbformat": 4,
 "nbformat_minor": 2
}
